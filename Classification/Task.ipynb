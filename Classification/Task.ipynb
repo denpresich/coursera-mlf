{
 "cells": [
  {
   "cell_type": "code",
   "execution_count": 62,
   "id": "ef42c338-1a62-420e-bd95-ec9a6275a643",
   "metadata": {},
   "outputs": [],
   "source": [
    "import turicreate"
   ]
  },
  {
   "cell_type": "code",
   "execution_count": 63,
   "id": "a33f7d28-279a-4854-a71f-fa9261b8ec8e",
   "metadata": {},
   "outputs": [],
   "source": [
    "selected_words = ['awesome', 'great', 'fantastic', 'amazing', 'love', 'horrible', 'bad', 'terrible', 'awful', 'wow', 'hate']"
   ]
  },
  {
   "cell_type": "code",
   "execution_count": 64,
   "id": "043da8cc-2140-4ff4-887e-1af3599f6f32",
   "metadata": {},
   "outputs": [],
   "source": [
    "products = turicreate.SFrame('./amazon_baby.sframe')"
   ]
  },
  {
   "cell_type": "markdown",
   "id": "7b09ae63-8fb4-4c47-9e5b-1e5ff5a10034",
   "metadata": {},
   "source": [
    "## 1. Words count"
   ]
  },
  {
   "cell_type": "code",
   "execution_count": 65,
   "id": "204bc52b-8516-4b47-b92e-928bbb1761c6",
   "metadata": {},
   "outputs": [],
   "source": [
    "products['word_count'] = turicreate.text_analytics.count_words(products['review'])"
   ]
  },
  {
   "cell_type": "code",
   "execution_count": 66,
   "id": "1f016492-6492-4c01-99ec-6bfbc90ce9f5",
   "metadata": {},
   "outputs": [],
   "source": [
    "for selected_word in selected_words:\n",
    "    products['{0}'.format(selected_word)] = products['word_count'].apply(lambda words: words[selected_word] if selected_word in words else 0)"
   ]
  },
  {
   "cell_type": "code",
   "execution_count": 67,
   "id": "f07b2236-ebca-4363-ae4a-66707e1209f7",
   "metadata": {},
   "outputs": [
    {
     "name": "stdout",
     "output_type": "stream",
     "text": [
      "awesome :  4075.0\n",
      "great :  59536.0\n",
      "fantastic :  1765.0\n",
      "amazing :  2726.0\n",
      "love :  43867.0\n",
      "horrible :  1245\n",
      "bad :  4950.0\n",
      "terrible :  1282\n",
      "awful :  753\n",
      "wow :  461\n",
      "hate :  1285\n"
     ]
    }
   ],
   "source": [
    "for selected_word in selected_words:\n",
    "    print(selected_word, ': ', products['{0}'.format(selected_word)].sum())"
   ]
  },
  {
   "cell_type": "markdown",
   "id": "76b7c486-1bce-49fa-bc8b-df1230830c0d",
   "metadata": {},
   "source": [
    "## 2. Sentiment model"
   ]
  },
  {
   "cell_type": "code",
   "execution_count": 68,
   "id": "d148842e-6f41-4105-b81e-4b785f174b22",
   "metadata": {},
   "outputs": [],
   "source": [
    "products['sentiment'] = products['rating'] >= 4"
   ]
  },
  {
   "cell_type": "code",
   "execution_count": 69,
   "id": "2fcdc722-a8a6-49b6-b991-0bc623dc9fc1",
   "metadata": {},
   "outputs": [],
   "source": [
    "train_data, test_data = products.random_split(0.8, seed=0)"
   ]
  },
  {
   "cell_type": "code",
   "execution_count": 70,
   "id": "1771be0f-df4d-4f1d-b0b0-d2c5b0e4fe13",
   "metadata": {},
   "outputs": [
    {
     "data": {
      "text/html": [
       "<pre>Logistic regression:</pre>"
      ],
      "text/plain": [
       "Logistic regression:"
      ]
     },
     "metadata": {},
     "output_type": "display_data"
    },
    {
     "data": {
      "text/html": [
       "<pre>--------------------------------------------------------</pre>"
      ],
      "text/plain": [
       "--------------------------------------------------------"
      ]
     },
     "metadata": {},
     "output_type": "display_data"
    },
    {
     "data": {
      "text/html": [
       "<pre>Number of examples          : 146861</pre>"
      ],
      "text/plain": [
       "Number of examples          : 146861"
      ]
     },
     "metadata": {},
     "output_type": "display_data"
    },
    {
     "data": {
      "text/html": [
       "<pre>Number of classes           : 2</pre>"
      ],
      "text/plain": [
       "Number of classes           : 2"
      ]
     },
     "metadata": {},
     "output_type": "display_data"
    },
    {
     "data": {
      "text/html": [
       "<pre>Number of feature columns   : 11</pre>"
      ],
      "text/plain": [
       "Number of feature columns   : 11"
      ]
     },
     "metadata": {},
     "output_type": "display_data"
    },
    {
     "data": {
      "text/html": [
       "<pre>Number of unpacked features : 11</pre>"
      ],
      "text/plain": [
       "Number of unpacked features : 11"
      ]
     },
     "metadata": {},
     "output_type": "display_data"
    },
    {
     "data": {
      "text/html": [
       "<pre>Number of coefficients      : 12</pre>"
      ],
      "text/plain": [
       "Number of coefficients      : 12"
      ]
     },
     "metadata": {},
     "output_type": "display_data"
    },
    {
     "data": {
      "text/html": [
       "<pre>Starting Newton Method</pre>"
      ],
      "text/plain": [
       "Starting Newton Method"
      ]
     },
     "metadata": {},
     "output_type": "display_data"
    },
    {
     "data": {
      "text/html": [
       "<pre>--------------------------------------------------------</pre>"
      ],
      "text/plain": [
       "--------------------------------------------------------"
      ]
     },
     "metadata": {},
     "output_type": "display_data"
    },
    {
     "data": {
      "text/html": [
       "<pre>+-----------+----------+--------------+-------------------+---------------------+</pre>"
      ],
      "text/plain": [
       "+-----------+----------+--------------+-------------------+---------------------+"
      ]
     },
     "metadata": {},
     "output_type": "display_data"
    },
    {
     "data": {
      "text/html": [
       "<pre>| Iteration | Passes   | Elapsed Time | Training Accuracy | Validation Accuracy |</pre>"
      ],
      "text/plain": [
       "| Iteration | Passes   | Elapsed Time | Training Accuracy | Validation Accuracy |"
      ]
     },
     "metadata": {},
     "output_type": "display_data"
    },
    {
     "data": {
      "text/html": [
       "<pre>+-----------+----------+--------------+-------------------+---------------------+</pre>"
      ],
      "text/plain": [
       "+-----------+----------+--------------+-------------------+---------------------+"
      ]
     },
     "metadata": {},
     "output_type": "display_data"
    },
    {
     "data": {
      "text/html": [
       "<pre>| 1         | 2        | 0.090751     | 0.771750          | 0.771366            |</pre>"
      ],
      "text/plain": [
       "| 1         | 2        | 0.090751     | 0.771750          | 0.771366            |"
      ]
     },
     "metadata": {},
     "output_type": "display_data"
    },
    {
     "data": {
      "text/html": [
       "<pre>| 2         | 3        | 0.141971     | 0.772867          | 0.771748            |</pre>"
      ],
      "text/plain": [
       "| 2         | 3        | 0.141971     | 0.772867          | 0.771748            |"
      ]
     },
     "metadata": {},
     "output_type": "display_data"
    },
    {
     "data": {
      "text/html": [
       "<pre>| 3         | 4        | 0.196290     | 0.772908          | 0.771884            |</pre>"
      ],
      "text/plain": [
       "| 3         | 4        | 0.196290     | 0.772908          | 0.771884            |"
      ]
     },
     "metadata": {},
     "output_type": "display_data"
    },
    {
     "data": {
      "text/html": [
       "<pre>| 4         | 5        | 0.248755     | 0.772928          | 0.771884            |</pre>"
      ],
      "text/plain": [
       "| 4         | 5        | 0.248755     | 0.772928          | 0.771884            |"
      ]
     },
     "metadata": {},
     "output_type": "display_data"
    },
    {
     "data": {
      "text/html": [
       "<pre>| 5         | 6        | 0.300728     | 0.772928          | 0.771884            |</pre>"
      ],
      "text/plain": [
       "| 5         | 6        | 0.300728     | 0.772928          | 0.771884            |"
      ]
     },
     "metadata": {},
     "output_type": "display_data"
    },
    {
     "data": {
      "text/html": [
       "<pre>+-----------+----------+--------------+-------------------+---------------------+</pre>"
      ],
      "text/plain": [
       "+-----------+----------+--------------+-------------------+---------------------+"
      ]
     },
     "metadata": {},
     "output_type": "display_data"
    },
    {
     "data": {
      "text/html": [
       "<pre>SUCCESS: Optimal solution found.</pre>"
      ],
      "text/plain": [
       "SUCCESS: Optimal solution found."
      ]
     },
     "metadata": {},
     "output_type": "display_data"
    },
    {
     "data": {
      "text/html": [
       "<pre></pre>"
      ],
      "text/plain": []
     },
     "metadata": {},
     "output_type": "display_data"
    }
   ],
   "source": [
    "selected_words_model = turicreate.logistic_classifier.create(train_data, target='sentiment', features=selected_words, validation_set=test_data)"
   ]
  },
  {
   "cell_type": "code",
   "execution_count": 75,
   "id": "ae948780-db30-4648-ab53-842a54a5e30c",
   "metadata": {},
   "outputs": [],
   "source": [
    "selected_words_model = selected_words_model.coefficients.sort('value')"
   ]
  },
  {
   "cell_type": "code",
   "execution_count": 78,
   "id": "d63e9128-11a2-4d7d-9973-21f649ce8bf9",
   "metadata": {},
   "outputs": [
    {
     "name": "stdout",
     "output_type": "stream",
     "text": [
      "+-------------+-------+-------+---------------------+----------------------+\n",
      "|     name    | index | class |        value        |        stderr        |\n",
      "+-------------+-------+-------+---------------------+----------------------+\n",
      "|   horrible  |  None |   1   | -1.9717454039217364 | 0.07642609142520154  |\n",
      "|   terrible  |  None |   1   |  -1.927741465623427 | 0.07391732820972687  |\n",
      "|    awful    |  None |   1   | -1.7280068463019034 | 0.09513832961728019  |\n",
      "|     hate    |  None |   1   | -1.2569862359870942 | 0.06892363627849529  |\n",
      "|     bad     |  None |   1   | -0.9566124758067334 | 0.03364324926054333  |\n",
      "|     wow     |  None |   1   | -0.0647025741244049 | 0.12004948561373963  |\n",
      "|    great    |  None |   1   |  0.6737888005584025 | 0.013878642610622804 |\n",
      "|  fantastic  |  None |   1   |  0.7782080155434505 | 0.08618412069305033  |\n",
      "| (intercept) |  None |   1   |  0.8730523140219982 | 0.007420974945163628 |\n",
      "|   awesome   |  None |   1   |  1.0056865099491077 | 0.06312207550960006  |\n",
      "|   amazing   |  None |   1   |  1.058775662933561  | 0.07873713890676012  |\n",
      "|     love    |  None |   1   |  1.1242227839404249 | 0.01984496678027404  |\n",
      "+-------------+-------+-------+---------------------+----------------------+\n",
      "[12 rows x 5 columns]\n",
      "\n"
     ]
    }
   ],
   "source": [
    "selected_words_model.print_rows(num_rows=12)"
   ]
  },
  {
   "cell_type": "markdown",
   "id": "c732c091-2234-4ebf-92ea-989cfa283287",
   "metadata": {},
   "source": [
    "## 3. Comparing accuracy"
   ]
  },
  {
   "cell_type": "code",
   "execution_count": null,
   "id": "720525e6-caa7-436c-8dfe-32ebfe6a8cfc",
   "metadata": {},
   "outputs": [],
   "source": [
    "selected_words_model.evaluate(test_data)"
   ]
  },
  {
   "cell_type": "markdown",
   "id": "82ee443d-dd65-4419-abaf-cd9ed470869d",
   "metadata": {},
   "source": [
    "## 4. Interpreting the difference in performance between the models"
   ]
  },
  {
   "cell_type": "code",
   "execution_count": null,
   "id": "620754a1-f8c9-4ee4-9174-e8216f8ea57b",
   "metadata": {},
   "outputs": [],
   "source": [
    "diaper_champ_reviews = products[products['name'] == 'Baby Trend Diaper Champ']"
   ]
  },
  {
   "cell_type": "code",
   "execution_count": null,
   "id": "b31c426b-764f-40b7-adbf-f870f8f6cc00",
   "metadata": {},
   "outputs": [],
   "source": [
    "selected_words_model.predict(diaper_champ_reviews, output_type='probability').sort()"
   ]
  },
  {
   "cell_type": "code",
   "execution_count": null,
   "id": "be684046-5b6b-4fa7-814d-1c39d514c1c0",
   "metadata": {},
   "outputs": [],
   "source": [
    "diaper_champ_reviews"
   ]
  },
  {
   "cell_type": "code",
   "execution_count": 80,
   "id": "c9d4db19-7abd-4426-91cd-97f19ee12a8f",
   "metadata": {},
   "outputs": [
    {
     "ename": "RuntimeError",
     "evalue": "Column name Evaluation does not exist.",
     "output_type": "error",
     "traceback": [
      "\u001b[0;31m---------------------------------------------------------------------------\u001b[0m",
      "\u001b[0;31mRuntimeError\u001b[0m                              Traceback (most recent call last)",
      "File \u001b[0;32m~/venv/lib/python3.8/site-packages/turicreate/data_structures/sframe.py:3316\u001b[0m, in \u001b[0;36mSFrame.select_column\u001b[0;34m(self, column_name)\u001b[0m\n\u001b[1;32m   3315\u001b[0m \u001b[38;5;28;01mwith\u001b[39;00m cython_context():\n\u001b[0;32m-> 3316\u001b[0m     \u001b[38;5;28;01mreturn\u001b[39;00m SArray(data\u001b[38;5;241m=\u001b[39m[], _proxy\u001b[38;5;241m=\u001b[39m\u001b[38;5;28;43mself\u001b[39;49m\u001b[38;5;241;43m.\u001b[39;49m\u001b[43m__proxy__\u001b[49m\u001b[38;5;241;43m.\u001b[39;49m\u001b[43mselect_column\u001b[49m\u001b[43m(\u001b[49m\u001b[43mcolumn_name\u001b[49m\u001b[43m)\u001b[49m)\n",
      "File \u001b[0;32mcy_sframe.pyx:200\u001b[0m, in \u001b[0;36mturicreate._cython.cy_sframe.UnitySFrameProxy.select_column\u001b[0;34m()\u001b[0m\n",
      "File \u001b[0;32mcy_sframe.pyx:204\u001b[0m, in \u001b[0;36mturicreate._cython.cy_sframe.UnitySFrameProxy.select_column\u001b[0;34m()\u001b[0m\n",
      "\u001b[0;31mRuntimeError\u001b[0m: Column name Evaluation does not exist.",
      "\nDuring handling of the above exception, another exception occurred:\n",
      "\u001b[0;31mRuntimeError\u001b[0m                              Traceback (most recent call last)",
      "Cell \u001b[0;32mIn[80], line 1\u001b[0m\n\u001b[0;32m----> 1\u001b[0m \u001b[43mselected_words_model\u001b[49m\u001b[43m[\u001b[49m\u001b[38;5;124;43m'\u001b[39;49m\u001b[38;5;124;43mEvaluation\u001b[39;49m\u001b[38;5;124;43m'\u001b[39;49m\u001b[43m]\u001b[49m\u001b[38;5;241m.\u001b[39mshow()\n",
      "File \u001b[0;32m~/venv/lib/python3.8/site-packages/turicreate/data_structures/sframe.py:3824\u001b[0m, in \u001b[0;36mSFrame.__getitem__\u001b[0;34m(self, key)\u001b[0m\n\u001b[1;32m   3822\u001b[0m     \u001b[38;5;28;01mif\u001b[39;00m six\u001b[38;5;241m.\u001b[39mPY2 \u001b[38;5;129;01mand\u001b[39;00m \u001b[38;5;28mtype\u001b[39m(key) \u001b[38;5;241m==\u001b[39m unicode:\n\u001b[1;32m   3823\u001b[0m         key \u001b[38;5;241m=\u001b[39m key\u001b[38;5;241m.\u001b[39mencode(\u001b[38;5;124m\"\u001b[39m\u001b[38;5;124mutf-8\u001b[39m\u001b[38;5;124m\"\u001b[39m)\n\u001b[0;32m-> 3824\u001b[0m     \u001b[38;5;28;01mreturn\u001b[39;00m \u001b[38;5;28;43mself\u001b[39;49m\u001b[38;5;241;43m.\u001b[39;49m\u001b[43mselect_column\u001b[49m\u001b[43m(\u001b[49m\u001b[43mkey\u001b[49m\u001b[43m)\u001b[49m\n\u001b[1;32m   3825\u001b[0m \u001b[38;5;28;01melif\u001b[39;00m \u001b[38;5;28mtype\u001b[39m(key) \u001b[38;5;129;01mis\u001b[39;00m \u001b[38;5;28mtype\u001b[39m:\n\u001b[1;32m   3826\u001b[0m     \u001b[38;5;28;01mreturn\u001b[39;00m \u001b[38;5;28mself\u001b[39m\u001b[38;5;241m.\u001b[39mselect_columns([key])\n",
      "File \u001b[0;32m~/venv/lib/python3.8/site-packages/turicreate/data_structures/sframe.py:3316\u001b[0m, in \u001b[0;36mSFrame.select_column\u001b[0;34m(self, column_name)\u001b[0m\n\u001b[1;32m   3314\u001b[0m     \u001b[38;5;28;01mraise\u001b[39;00m \u001b[38;5;167;01mTypeError\u001b[39;00m(\u001b[38;5;124m\"\u001b[39m\u001b[38;5;124mInvalid column_nametype: must be str\u001b[39m\u001b[38;5;124m\"\u001b[39m)\n\u001b[1;32m   3315\u001b[0m \u001b[38;5;28;01mwith\u001b[39;00m cython_context():\n\u001b[0;32m-> 3316\u001b[0m     \u001b[38;5;28;01mreturn\u001b[39;00m SArray(data\u001b[38;5;241m=\u001b[39m[], _proxy\u001b[38;5;241m=\u001b[39m\u001b[38;5;28mself\u001b[39m\u001b[38;5;241m.\u001b[39m__proxy__\u001b[38;5;241m.\u001b[39mselect_column(column_name))\n",
      "File \u001b[0;32m~/venv/lib/python3.8/site-packages/turicreate/_cython/context.py:50\u001b[0m, in \u001b[0;36mdebug_trace.__exit__\u001b[0;34m(self, exc_type, exc_value, traceback)\u001b[0m\n\u001b[1;32m     47\u001b[0m \u001b[38;5;28;01mif\u001b[39;00m exc_type:\n\u001b[1;32m     48\u001b[0m     \u001b[38;5;28;01mif\u001b[39;00m \u001b[38;5;129;01mnot\u001b[39;00m \u001b[38;5;28mself\u001b[39m\u001b[38;5;241m.\u001b[39mshow_cython_trace:\n\u001b[1;32m     49\u001b[0m         \u001b[38;5;66;03m# To hide cython trace, we re-raise from here\u001b[39;00m\n\u001b[0;32m---> 50\u001b[0m         \u001b[38;5;28;01mraise\u001b[39;00m exc_type(exc_value)\n\u001b[1;32m     51\u001b[0m     \u001b[38;5;28;01melse\u001b[39;00m:\n\u001b[1;32m     52\u001b[0m         \u001b[38;5;66;03m# To show the full trace, we do nothing and let exception propagate\u001b[39;00m\n\u001b[1;32m     53\u001b[0m \n\u001b[1;32m     54\u001b[0m         \u001b[38;5;66;03m# In verbose mode we print the server log\u001b[39;00m\n\u001b[1;32m     55\u001b[0m         \u001b[38;5;28;01mif\u001b[39;00m \u001b[38;5;28mself\u001b[39m\u001b[38;5;241m.\u001b[39mshow_server_log:\n",
      "\u001b[0;31mRuntimeError\u001b[0m: Column name Evaluation does not exist."
     ]
    }
   ],
   "source": [
    "selected_words_model['Evaluation'].show()"
   ]
  }
 ],
 "metadata": {
  "kernelspec": {
   "display_name": "Python 3 (ipykernel)",
   "language": "python",
   "name": "python3"
  },
  "language_info": {
   "codemirror_mode": {
    "name": "ipython",
    "version": 3
   },
   "file_extension": ".py",
   "mimetype": "text/x-python",
   "name": "python",
   "nbconvert_exporter": "python",
   "pygments_lexer": "ipython3",
   "version": "3.8.18"
  }
 },
 "nbformat": 4,
 "nbformat_minor": 5
}
